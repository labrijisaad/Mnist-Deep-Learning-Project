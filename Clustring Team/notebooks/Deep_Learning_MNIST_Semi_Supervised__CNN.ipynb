{
 "cells": [
  {
   "cell_type": "markdown",
   "metadata": {},
   "source": [
    "# <p style=\"text-align:center\" color=\"red\"><span style=\"color:red\">Projet d'Apprentissage Automatique avec `Deep Learning`</span></p>\n",
    "## <p style=\"text-align:center\" color=\"red\"><span style=\"color:green\">Apprentissage `Semi-Supervisé` sur `MNIST digits`</span></p>\n",
    "\n",
    "**Membres du Groupe :**\n",
    "\n",
    "- Meryem Belkaid - `AMSD`\n",
    "- Hafsa Boanani - `AMSD`\n",
    "- Abir Oumghar - `AMSD`\n",
    "- Sanae Hakimi - `MLSD`\n"
   ]
  },
  {
   "cell_type": "markdown",
   "metadata": {},
   "source": [
    "### Importation des bibliothèques nécessaires à notre projet"
   ]
  },
  {
   "cell_type": "code",
   "execution_count": 1,
   "metadata": {
    "id": "OFpez2Y9PIrp"
   },
   "outputs": [],
   "source": [
    "# Ignorer les avertissements dans le calepin Jupyter\n",
    "import warnings\n",
    "warnings.filterwarnings('ignore')\n",
    "\n",
    "# Importations liées à TensorFlow et Keras\n",
    "import tensorflow as tf\n",
    "from tensorflow import keras\n",
    "from tensorflow.keras.models import Sequential\n",
    "from tensorflow.keras.layers import (\n",
    "    Dense, Conv2D, MaxPooling2D, Flatten, Activation, Dropout\n",
    ")\n",
    "from tensorflow.keras.datasets import mnist\n",
    "from tensorflow.keras.utils import to_categorical\n",
    "\n",
    "# Importations liées à la manipulation des données avec scikit-learn\n",
    "from sklearn.model_selection import StratifiedShuffleSplit\n",
    "from sklearn.utils import shuffle\n",
    "\n",
    "# Métriques d'évaluation de la classification\n",
    "from sklearn.metrics import confusion_matrix, accuracy_score, classification_report, log_loss\n",
    "\n",
    "# Importation liée au traitement d'image avec OpenCV\n",
    "import cv2\n",
    "\n",
    "# Importations liées à la visualisation\n",
    "import seaborn as sns\n",
    "import matplotlib.pyplot as plt\n",
    "%matplotlib inline\n",
    "\n",
    "# Importations liées aux opérations numériques avec NumPy\n",
    "import numpy as np\n",
    "\n",
    "# Autres bibliothèques\n",
    "import time"
   ]
  },
  {
   "cell_type": "markdown",
   "metadata": {},
   "source": [
    "### Charger le jeu de données MNIST digits"
   ]
  },
  {
   "cell_type": "markdown",
   "metadata": {},
   "source": [
    "<div class=\"alert alert-info\">\n",
    "<i class=\"fa fa-info-circle\"></i> &emsp; \n",
    "<b><code>MNIST digits</code></b> est un ensemble de données qui comprend des images de chiffres manuscrits largement utilisé dans le domaine de l'apprentissage automatique. Il sert souvent de banc d'essai pour évaluer les performances des algorithmes de classification d'images. — <code>Wikipedia</code></b>\n",
    "\n",
    "[Plus d'informations..](https://fr.wikipedia.org/wiki/Base_de_donn%C3%A9es_MNIST)\n",
    "</div>"
   ]
  },
  {
   "cell_type": "code",
   "execution_count": 2,
   "metadata": {
    "colab": {
     "base_uri": "https://localhost:8080/"
    },
    "id": "8wsY3gD6iAKf",
    "outputId": "2d0d6431-da16-4a1b-c96e-2e6f301d44e8"
   },
   "outputs": [
    {
     "name": "stdout",
     "output_type": "stream",
     "text": [
      "Nombre d'échantillons dans l'ensemble d'entraînement : 60000\n",
      "Nombre d'échantillons dans l'ensemble de test : 10000\n"
     ]
    }
   ],
   "source": [
    "# Charger le jeu de données MNIST\n",
    "(x_train_complet, y_train_complet), (x_test, y_test) = mnist.load_data()\n",
    "\n",
    "# Affichage du nombre d'échantillons dans le jeu d'entraînement et de test\n",
    "print(f\"Nombre d'échantillons dans l'ensemble d'entraînement : {len(x_train_complet)}\")\n",
    "print(f\"Nombre d'échantillons dans l'ensemble de test : {len(x_test)}\")"
   ]
  },
  {
   "cell_type": "markdown",
   "metadata": {},
   "source": [
    "#### Exploration des données ( Visualisation de 10 échantillons aléatoires )"
   ]
  },
  {
   "cell_type": "code",
   "execution_count": 3,
   "metadata": {},
   "outputs": [
    {
     "data": {
      "image/png": "[encoded data removed]",
      "text/plain": [
       "<Figure size 1800x200 with 10 Axes>"
      ]
     },
     "metadata": {},
     "output_type": "display_data"
    }
   ],
   "source": [
    "# Générer des indices aléatoires\n",
    "indices_aleatoires = np.random.choice(len(x_train_complet), 10, replace=False)\n",
    "\n",
    "# Créer le graphique avec une seule rangée et 10 colonnes\n",
    "fig, axs = plt.subplots(1, 10, figsize=(18, 2))\n",
    "fig.suptitle('Échantillons Aléatoires de l\\'Ensemble de données MNIST Digits', fontsize=16)\n",
    "\n",
    "for i, index in enumerate(indices_aleatoires):\n",
    "    # Afficher l'étiquette\n",
    "    label = y_train_complet[index]\n",
    "    axs[i].set_title(f\"Label : {label}\", fontsize=10)\n",
    "    \n",
    "    # Remodeler l'image et l'afficher\n",
    "    img = x_train_complet[index].reshape(28, 28)\n",
    "    axs[i].imshow(img, cmap='gray')\n",
    "    axs[i].axis('off')  # Désactiver l'axe pour une meilleure présentation\n",
    "\n",
    "# Ajuster la disposition pour éviter la superposition\n",
    "plt.tight_layout(rect=[0, 0.03, 1, 0.95])\n",
    "\n",
    "# Afficher le graphique\n",
    "plt.show()"
   ]
  },
  {
   "cell_type": "markdown",
   "metadata": {
    "id": "Zz9kYwHsJotv"
   },
   "source": [
    "### Préparation des Données pour l'Entraînement `Semi-Supervisé`"
   ]
  },
  {
   "cell_type": "code",
   "execution_count": 4,
   "metadata": {
    "colab": {
     "base_uri": "https://localhost:8080/"
    },
    "id": "6PRNpkKfKUOg",
    "outputId": "4b5c3faa-693e-4947-c092-87b190deca6b"
   },
   "outputs": [
    {
     "name": "stdout",
     "output_type": "stream",
     "text": [
      "Nombre d'échantillons étiquetés dans l'ensemble d'entraînement : 100\n",
      "\n",
      "Nombre de classes uniques dans les données étiquetées : 10\n",
      "Nombre d'échantillons non étiquetés dans l'ensemble de test : 59800\n",
      "\n",
      "Nombre d'échantillons dans l'ensemble de validation : 100\n",
      "Nombre de classes uniques dans l'ensemble de validation : 10\n"
     ]
    }
   ],
   "source": [
    "# Paramètres pour la sélection des données\n",
    "count_etiquetees_par_classe = 10\n",
    "count_validation = 100\n",
    "count_non_etiquetees_test = 59800\n",
    "\n",
    "# Sélectionner un petit sous-ensemble pour les données étiquetées\n",
    "etiquetees_indices = np.concatenate([np.random.choice(np.where(y_train_complet == classe)[0], size=count_etiquetees_par_classe, replace=False) for classe in np.unique(y_train_complet)])\n",
    "x_etiquetees, y_etiquetees = x_train_complet[etiquetees_indices], y_train_complet[etiquetees_indices]\n",
    "\n",
    "# Utiliser le reste des données comme non étiquetées\n",
    "x_non_etiquetees, y_non_etiquetees = np.delete(x_train_complet, etiquetees_indices, axis=0), np.delete(y_train_complet, etiquetees_indices, axis=0)\n",
    "\n",
    "# Utiliser StratifiedShuffleSplit pour diviser les données restantes en ensembles d'entraînement et de validation\n",
    "sss = StratifiedShuffleSplit(n_splits=1, test_size=count_validation, random_state=42)\n",
    "for train_index, validation_index in sss.split(x_non_etiquetees, y_non_etiquetees):\n",
    "    x_validation, y_validation = x_non_etiquetees[validation_index], y_non_etiquetees[validation_index]\n",
    "    x_non_etiquetees, y_non_etiquetees = x_non_etiquetees[train_index], y_non_etiquetees[train_index]\n",
    "\n",
    "# Prendre les échantillons restants comme non étiquetés pour le test\n",
    "x_non_etiquetees_test, y_non_etiquetees_test = x_non_etiquetees[:count_non_etiquetees_test], y_non_etiquetees[:count_non_etiquetees_test]\n",
    "\n",
    "# Mélanger les ensembles de données de la même manière\n",
    "shuffle_indices = np.random.permutation(len(x_etiquetees))\n",
    "x_etiquetees, y_etiquetees = x_etiquetees[shuffle_indices], y_etiquetees[shuffle_indices]\n",
    "\n",
    "shuffle_indices = np.random.permutation(len(x_validation))\n",
    "x_validation, y_validation = x_validation[shuffle_indices], y_validation[shuffle_indices]\n",
    "\n",
    "shuffle_indices = np.random.permutation(len(x_non_etiquetees))\n",
    "x_non_etiquetees, y_non_etiquetees_test = x_non_etiquetees[shuffle_indices], y_non_etiquetees_test[shuffle_indices]\n",
    "\n",
    "# Afficher des informations sur les ensembles étiquetés, non étiquetés et de validation\n",
    "print(f\"Nombre d'échantillons étiquetés dans l'ensemble d'entraînement : {len(x_etiquetees)}\")\n",
    "print(f\"\\nNombre de classes uniques dans les données étiquetées : {len(np.unique(y_etiquetees))}\")\n",
    "print(f\"Nombre d'échantillons non étiquetés dans l'ensemble de test : {len(x_non_etiquetees)}\")\n",
    "print(f\"\\nNombre d'échantillons dans l'ensemble de validation : {len(x_validation)}\")\n",
    "print(f\"Nombre de classes uniques dans l'ensemble de validation : {len(np.unique(y_validation))}\")"
   ]
  },
  {
   "cell_type": "markdown",
   "metadata": {},
   "source": [
    "> Jusqu'à présent, nous avons soigneusement sélectionné 100 images étiquetées équilibrées pour l'entraînement et 100 pour la validation, en respectant l'équilibre des données. Nous avons utilisé la méthode `Stratified Shuffle Split` de Scikit-learn pour assurer cet équilibre. Les 59,800 images restantes seront utilisées dans le cadre de l'apprentissage semi-supervisé."
   ]
  },
  {
   "cell_type": "markdown",
   "metadata": {},
   "source": [
    "### Prétraitement & Normalisation des Données"
   ]
  },
  {
   "cell_type": "code",
   "execution_count": 5,
   "metadata": {
    "id": "5ZkA64FZOhDY"
   },
   "outputs": [
    {
     "name": "stdout",
     "output_type": "stream",
     "text": [
      "Ensembles après prétraitement :\n",
      "Taille de l'ensemble étiqueté : (100, 784)\n",
      "Taille de l'ensemble non étiqueté : (59800, 784)\n",
      "Taille de l'ensemble de validation : (100, 784)\n",
      "Taille de l'ensemble de test : (10000, 784)\n"
     ]
    }
   ],
   "source": [
    "# Normaliser les valeurs des pixels des images d'entrée dans la plage [0, 1]\n",
    "x_etiquetees, x_non_etiquetees, x_validation, x_test = x_etiquetees / 255.0, x_non_etiquetees / 255.0, x_validation / 255.0, x_test / 255.0\n",
    "\n",
    "# Redimensionner les données en une seule dimension (pour les images)\n",
    "taille_pixels = 28 * 28  # La taille des images MNIST est de 28x28 pixels\n",
    "x_etiquetees = x_etiquetees.reshape(x_etiquetees.shape[0], taille_pixels)\n",
    "x_non_etiquetees = x_non_etiquetees.reshape(x_non_etiquetees.shape[0], taille_pixels)\n",
    "x_validation = x_validation.reshape(x_validation.shape[0], taille_pixels)\n",
    "x_test = x_test.reshape(x_test.shape[0], taille_pixels)\n",
    "\n",
    "# Afficher des informations sur les ensembles après prétraitement\n",
    "print(\"Ensembles après prétraitement :\")\n",
    "print(f\"Taille de l'ensemble étiqueté : {x_etiquetees.shape}\")\n",
    "print(f\"Taille de l'ensemble non étiqueté : {x_non_etiquetees.shape}\")\n",
    "print(f\"Taille de l'ensemble de validation : {x_validation.shape}\")\n",
    "print(f\"Taille de l'ensemble de test : {x_test.shape}\")"
   ]
  },
  {
   "cell_type": "markdown",
   "metadata": {},
   "source": [
    "> La normalisation des données MNIST est réalisée pour accélérer la convergence de l'entraînement, assurer la stabilité numérique et garantir une comparaison équitable entre les caractéristiques. Elle prévient également le surajustement en régularisant les poids du modèle."
   ]
  },
  {
   "cell_type": "code",
   "execution_count": 6,
   "metadata": {
    "id": "V86pod61qSAF"
   },
   "outputs": [],
   "source": [
    "# Mélanger les données pour éviter que l'ordre ait un impact sur l'entraînement\n",
    "tf.random.set_seed(42)\n",
    "x_etiquetees, y_etiquetees = shuffle(x_etiquetees, y_etiquetees)"
   ]
  },
  {
   "cell_type": "markdown",
   "metadata": {},
   "source": [
    "> Mélanger les données MNIST avant l'entraînement prévient les biais liés à l'ordre des données, favorise une convergence plus rapide du modèle, et améliore sa capacité à généraliser à de nouvelles données."
   ]
  },
  {
   "cell_type": "markdown",
   "metadata": {},
   "source": [
    "## <p style=\"color:red;\"><span style=\"color:black;\">Modèle 1️⃣ : Modèle de Réseau de Neurones (NN) sur 100 Échantillons</span></p>\n",
    "\n",
    "> - Dans un premier temps, comme mentionné dans l'article, nous allons utiliser le modèle proposé, le modèle NN, qui est un modèle simple. Nous allons d'abord l'utiliser dans un cadre supervisé et évaluer ses performances.\n",
    "\n",
    "<div class=\"alert alert-info\">\n",
    "<i class=\"fa fa-info-circle\"></i> &emsp; \n",
    "<b><code>Modèle de Réseau de Neurones (NN)</code></b> est une architecture de réseau neuronal artificiel récurrent (RNN) utilisée dans le domaine de l'apprentissage profond. Contrairement aux réseaux neuronaux standard à propagation avant, le LSTM possède des connexions de rétroaction. Il peut traiter non seulement des points de données individuels (comme des images), mais aussi des séquences entières de données (telles que la parole ou la vidéo). — <code>Wikipedia</code></b>\n",
    "\n",
    "[Plus d'informations..](https://fr.wikipedia.org/wiki/R%C3%A9seau_de_neurones_r%C3%A9currents)\n",
    "</div>\n"
   ]
  },
  {
   "cell_type": "markdown",
   "metadata": {},
   "source": [
    "#### Création du modèle de réseau de neurones"
   ]
  },
  {
   "cell_type": "code",
   "execution_count": 7,
   "metadata": {
    "colab": {
     "base_uri": "https://localhost:8080/"
    },
    "id": "G4I1rhv-qbgE",
    "outputId": "78863de0-d3a3-43c1-ea42-9d27ccb6b388"
   },
   "outputs": [
    {
     "name": "stdout",
     "output_type": "stream",
     "text": [
      "Model: \"sequential\"\n",
      "_________________________________________________________________\n",
      " Layer (type)                Output Shape              Param #   \n",
      "=================================================================\n",
      " dense (Dense)               (None, 5000)              3925000   \n",
      "                                                                 \n",
      " dense_1 (Dense)             (None, 10)                50010     \n",
      "                                                                 \n",
      "=================================================================\n",
      "Total params: 3975010 (15.16 MB)\n",
      "Trainable params: 3975010 (15.16 MB)\n",
      "Non-trainable params: 0 (0.00 Byte)\n",
      "_________________________________________________________________\n"
     ]
    }
   ],
   "source": [
    "modele_reseau_neurones = Sequential()\n",
    "# Ajout d'une couche cachée avec 5000 neurones et une fonction d'activation ReLU\n",
    "modele_reseau_neurones.add(Dense(5000, input_dim=784, activation='relu'))\n",
    "# Ajout de la couche de sortie avec 10 neurones et une fonction d'activation sigmoïde\n",
    "modele_reseau_neurones.add(Dense(10, activation='sigmoid'))\n",
    "# Affichage du résumé du modèle\n",
    "modele_reseau_neurones.summary()"
   ]
  },
  {
   "cell_type": "markdown",
   "metadata": {},
   "source": [
    "#### Configuration du Modèle"
   ]
  },
  {
   "cell_type": "code",
   "execution_count": 8,
   "metadata": {},
   "outputs": [
    {
     "name": "stdout",
     "output_type": "stream",
     "text": [
      "   Configuration du Modèle :\n",
      "   Optimiseur : Adam\n",
      "   Fonction de Perte : 'sparse_categorical_crossentropy'\n",
      "   Métriques : ['accuracy']\n"
     ]
    }
   ],
   "source": [
    "# Compiler le modèle avec l'optimiseur Adam, la fonction de perte 'sparse_categorical_crossentropy' et la métrique de précision\n",
    "modele_reseau_neurones.compile(optimizer='adam', loss='sparse_categorical_crossentropy', metrics=['accuracy'])\n",
    "\n",
    "# Affichage de la configuration du modèle\n",
    "print(\"   Configuration du Modèle :\")\n",
    "print(f\"   Optimiseur : Adam\")\n",
    "print(f\"   Fonction de Perte : 'sparse_categorical_crossentropy'\")\n",
    "print(f\"   Métriques : ['accuracy']\")"
   ]
  },
  {
   "cell_type": "markdown",
   "metadata": {},
   "source": [
    "<div class=\"alert alert-info\">\n",
    "<i class=\"fa fa-info-circle\"></i> &emsp; \n",
    "<b><code>L'utilisation de `sparse_categorical_crossentropy` dans l'entraînement du modèle MNIST Digts</code></b> : cette approche est motivée par la nature des étiquettes associées aux images du jeu de données. MNIST attribue des entiers aux chiffres de 0 à 9 sans nécessiter une encodage one-hot explicite. La fonction de perte 'sparse_categorical_crossentropy' est donc appropriée pour ce scénario.\n",
    "\n",
    "[En savoir plus sur 'sparse_categorical_crossentropy'](https://keras.io/api/losses/probabilistic_losses/#sparse_categorical_crossentropy-function:~:text=%5Bsource%5D-,SparseCategoricalCrossentropy%20class,-tf.keras)\n",
    "</div>"
   ]
  },
  {
   "cell_type": "markdown",
   "metadata": {},
   "source": [
    "#### Apprentissage du Modèle avec les 100 Images Étiquetées Uniquement"
   ]
  },
  {
   "cell_type": "code",
   "execution_count": 9,
   "metadata": {
    "colab": {
     "base_uri": "https://localhost:8080/"
    },
    "id": "5atL_5hYqz87",
    "outputId": "36c99aa8-3c6f-40f5-be2a-a7b2165630c6"
   },
   "outputs": [
    {
     "name": "stdout",
     "output_type": "stream",
     "text": [
      "Epoch 1/20\n",
      "4/4 [==============================] - 1s 130ms/step - loss: 2.1231 - accuracy: 0.2300 - val_loss: 1.2833 - val_accuracy: 0.5400\n",
      "Epoch 2/20\n",
      "4/4 [==============================] - 0s 48ms/step - loss: 0.8046 - accuracy: 0.7600 - val_loss: 0.9956 - val_accuracy: 0.6800\n",
      "Epoch 3/20\n",
      "4/4 [==============================] - 0s 55ms/step - loss: 0.3211 - accuracy: 0.9400 - val_loss: 0.9856 - val_accuracy: 0.6900\n",
      "Epoch 4/20\n",
      "4/4 [==============================] - 0s 52ms/step - loss: 0.1669 - accuracy: 0.9600 - val_loss: 1.2272 - val_accuracy: 0.6300\n",
      "Epoch 5/20\n",
      "4/4 [==============================] - 0s 55ms/step - loss: 0.1085 - accuracy: 0.9800 - val_loss: 1.0874 - val_accuracy: 0.6400\n",
      "Epoch 6/20\n",
      "4/4 [==============================] - 0s 51ms/step - loss: 0.0490 - accuracy: 1.0000 - val_loss: 0.9464 - val_accuracy: 0.6800\n",
      "Epoch 7/20\n",
      "4/4 [==============================] - 0s 53ms/step - loss: 0.0277 - accuracy: 1.0000 - val_loss: 0.9127 - val_accuracy: 0.7300\n",
      "Epoch 8/20\n",
      "4/4 [==============================] - 0s 44ms/step - loss: 0.0160 - accuracy: 1.0000 - val_loss: 0.9293 - val_accuracy: 0.7400\n",
      "Epoch 9/20\n",
      "4/4 [==============================] - 0s 48ms/step - loss: 0.0097 - accuracy: 1.0000 - val_loss: 0.9833 - val_accuracy: 0.7400\n",
      "Epoch 10/20\n",
      "4/4 [==============================] - 0s 52ms/step - loss: 0.0064 - accuracy: 1.0000 - val_loss: 1.0417 - val_accuracy: 0.7300\n",
      "Epoch 11/20\n",
      "4/4 [==============================] - 0s 51ms/step - loss: 0.0052 - accuracy: 1.0000 - val_loss: 1.0774 - val_accuracy: 0.7300\n",
      "Epoch 12/20\n",
      "4/4 [==============================] - 0s 44ms/step - loss: 0.0044 - accuracy: 1.0000 - val_loss: 1.0829 - val_accuracy: 0.7200\n",
      "Epoch 13/20\n",
      "4/4 [==============================] - 0s 52ms/step - loss: 0.0035 - accuracy: 1.0000 - val_loss: 1.0789 - val_accuracy: 0.7000\n",
      "Epoch 14/20\n",
      "4/4 [==============================] - 0s 43ms/step - loss: 0.0028 - accuracy: 1.0000 - val_loss: 1.0751 - val_accuracy: 0.7100\n",
      "Epoch 15/20\n",
      "4/4 [==============================] - 0s 45ms/step - loss: 0.0023 - accuracy: 1.0000 - val_loss: 1.0685 - val_accuracy: 0.7100\n",
      "Epoch 16/20\n",
      "4/4 [==============================] - 0s 51ms/step - loss: 0.0020 - accuracy: 1.0000 - val_loss: 1.0659 - val_accuracy: 0.7100\n",
      "Epoch 17/20\n",
      "4/4 [==============================] - 0s 55ms/step - loss: 0.0018 - accuracy: 1.0000 - val_loss: 1.0634 - val_accuracy: 0.7100\n",
      "Epoch 18/20\n",
      "4/4 [==============================] - 0s 55ms/step - loss: 0.0017 - accuracy: 1.0000 - val_loss: 1.0649 - val_accuracy: 0.7200\n",
      "Epoch 19/20\n",
      "4/4 [==============================] - 0s 52ms/step - loss: 0.0015 - accuracy: 1.0000 - val_loss: 1.0683 - val_accuracy: 0.7200\n",
      "Epoch 20/20\n",
      "4/4 [==============================] - 0s 52ms/step - loss: 0.0014 - accuracy: 1.0000 - val_loss: 1.0709 - val_accuracy: 0.7200\n",
      "\n",
      "Historique d'Apprentissage :\n",
      " >> Nombre d'époques : 20\n",
      " >> Perte moyenne finale : 0.0014\n",
      " >> Précision moyenne finale : 1.0000\n",
      " >> Validation Perte moyenne finale : 1.0709\n",
      " >> Validation Précision moyenne finale : 0.7200\n"
     ]
    }
   ],
   "source": [
    "# Apprentissage du modèle avec les données étiquetées (100 images) pour 20 époques\n",
    "historique_apprentissage = modele_reseau_neurones.fit(x_etiquetees, \n",
    "                                                      y_etiquetees, \n",
    "                                                      epochs=20, \n",
    "                                                      batch_size=32, \n",
    "                                                      validation_data=(x_validation, y_validation))\n",
    "\n",
    "# Affichage de l'historique d'apprentissage\n",
    "print(\"\\nHistorique d'Apprentissage :\")\n",
    "print(f\" >> Nombre d'époques : {len(historique_apprentissage.history['loss'])}\")\n",
    "print(f\" >> Perte moyenne finale : {historique_apprentissage.history['loss'][-1]:.4f}\")\n",
    "print(f\" >> Précision moyenne finale : {historique_apprentissage.history['accuracy'][-1]:.4f}\")\n",
    "print(f\" >> Validation Perte moyenne finale : {historique_apprentissage.history['val_loss'][-1]:.4f}\")\n",
    "print(f\" >> Validation Précision moyenne finale : {historique_apprentissage.history['val_accuracy'][-1]:.4f}\")"
   ]
  },
  {
   "cell_type": "markdown",
   "metadata": {},
   "source": [
    "#### Visualisation de l'historique du modèle de réseau de neurones"
   ]
  },
  {
   "cell_type": "code",
   "execution_count": 10,
   "metadata": {},
   "outputs": [
    {
     "data": {
      "image/png": "[encoded data removed]",
      "text/plain": [
       "<Figure size 1600x600 with 2 Axes>"
      ]
     },
     "metadata": {},
     "output_type": "display_data"
    }
   ],
   "source": [
    "# Détermination du nombre d'époques\n",
    "nb_epochs = len(historique_apprentissage.history['loss'])\n",
    "\n",
    "# Configuration du style Seaborn\n",
    "sns.set(style=\"whitegrid\")\n",
    "\n",
    "# Création de la figure avec une taille appropriée\n",
    "plt.figure(figsize=(16, 6))\n",
    "\n",
    "# Courbe de perte\n",
    "plt.subplot(1, 2, 1)\n",
    "sns.lineplot(x=range(1, nb_epochs + 1), y=historique_apprentissage.history['loss'], label='Entraînement', color='blue')\n",
    "sns.lineplot(x=range(1, nb_epochs + 1), y=historique_apprentissage.history['val_loss'], label='Validation', color='orange')\n",
    "plt.title('Évolution de la Perte')\n",
    "plt.xlabel('Époque')\n",
    "plt.ylabel('Perte')\n",
    "plt.legend()\n",
    "plt.grid(True)\n",
    "\n",
    "# Courbe de précision\n",
    "plt.subplot(1, 2, 2)\n",
    "sns.lineplot(x=range(1, nb_epochs + 1), y=historique_apprentissage.history['accuracy'], label='Entraînement', color='green')\n",
    "sns.lineplot(x=range(1, nb_epochs + 1), y=historique_apprentissage.history['val_accuracy'], label='Validation', color='red')\n",
    "plt.title('Évolution de la Précision')\n",
    "plt.xlabel('Époque')\n",
    "plt.ylabel('Précision')\n",
    "plt.legend()\n",
    "plt.grid(True)\n",
    "\n",
    "# Ajout du titre à la figure\n",
    "plt.suptitle(\"Visualisation de l'historique du modèle de réseau de neurones ( NN )\")\n",
    "plt.show()"
   ]
  },
  {
   "cell_type": "markdown",
   "metadata": {},
   "source": [
    "#### `Évaluation` et `Visualisation` des Métriques de Classification"
   ]
  },
  {
   "cell_type": "code",
   "execution_count": 11,
   "metadata": {},
   "outputs": [
    {
     "name": "stdout",
     "output_type": "stream",
     "text": [
      "313/313 [==============================] - 2s 6ms/step\n"
     ]
    },
    {
     "data": {
      "image/png": "[encoded data removed]",
      "text/plain": [
       "<Figure size 500x400 with 1 Axes>"
      ]
     },
     "metadata": {},
     "output_type": "display_data"
    },
    {
     "name": "stdout",
     "output_type": "stream",
     "text": [
      "Rapport de Classification:\n",
      "               precision    recall  f1-score   support\n",
      "\n",
      "           0       0.87      0.86      0.86       980\n",
      "           1       0.95      0.80      0.87      1135\n",
      "           2       0.65      0.70      0.67      1032\n",
      "           3       0.57      0.77      0.65      1010\n",
      "           4       0.79      0.69      0.74       982\n",
      "           5       0.63      0.69      0.66       892\n",
      "           6       0.88      0.79      0.83       958\n",
      "           7       0.83      0.80      0.81      1028\n",
      "           8       0.70      0.54      0.61       974\n",
      "           9       0.65      0.76      0.70      1009\n",
      "\n",
      "    accuracy                           0.74     10000\n",
      "   macro avg       0.75      0.74      0.74     10000\n",
      "weighted avg       0.76      0.74      0.74     10000\n",
      "\n",
      "\n",
      "Résultats de l'Évaluation sur l'Ensemble de Test :\n",
      ">> Précision : 0.7407\n"
     ]
    }
   ],
   "source": [
    "# Prédiction sur l'ensemble de test\n",
    "y_pred = np.argmax(modele_reseau_neurones.predict(x_test), axis=1)\n",
    "\n",
    "# Calcul de la matrice de confusion\n",
    "matrice_confusion = confusion_matrix(y_test, y_pred)\n",
    "\n",
    "# Tracer la matrice de confusion avec un style amélioré\n",
    "plt.figure(figsize=(5, 4))\n",
    "sns.heatmap(matrice_confusion, annot=True, fmt=\"d\", cmap=\"viridis\", cbar=False, square=True,\n",
    "            xticklabels=np.arange(10), yticklabels=np.arange(10), linewidths=.5, linecolor='gray')\n",
    "plt.xlabel('Prédit', fontsize=12, fontweight='bold')\n",
    "plt.ylabel('Réel', fontsize=12, fontweight='bold')\n",
    "plt.title('Matrice de Confusion', fontsize=14, fontweight='bold')\n",
    "plt.xticks(fontsize=10)\n",
    "plt.yticks(fontsize=10)\n",
    "plt.show()\n",
    "\n",
    "# Rapport de classification\n",
    "rapport_classification = classification_report(y_test, y_pred, target_names=[str(i) for i in range(10)])\n",
    "print(\"Rapport de Classification:\\n\", rapport_classification)\n",
    "\n",
    "# Affichage des résultats d'évaluation\n",
    "precision = accuracy_score(y_test, y_pred)\n",
    "\n",
    "print(\"\\nRésultats de l'Évaluation sur l'Ensemble de Test :\")\n",
    "print(f\">> Précision : {precision}\")"
   ]
  },
  {
   "cell_type": "markdown",
   "metadata": {},
   "source": [
    "## <p style=\"color:red;\"><span style=\"color:black;\">Modèle 2️⃣ : Modèle de Réseau de Neurones avec drop `Drop_NN` sur 100 Échantillons</span></p>\n",
    "> - Dans un deuxiéme  temps, comme mentionné dans l'article, nous allons utiliser le modèle proposé, le modèle drop NN, qui est un modèle evalué de NN avec des couche de dropout. nous allons utilser ce modele qui a le drop out pour voir comment ces perfomances evoluent\n",
    "\n",
    "<div class=\"alert alert-info\">\n",
    "<i class=\"fa fa-info-circle\"></i> &emsp; \n",
    "<b><code>Le concept de dropout dans le deep learning</code></b> est une technique de régularisation utilisée pour prévenir le surajustement dans les réseaux neuronaux. Il consiste à aléatoirement \"supprimer\" (ignorer) un certain pourcentage de neurones pendant l'entraînement, ce qui permet d'améliorer la généralisation du modèle. Cette approche contribue souvent à obtenir des modèles plus robustes et performants.\n",
    "\n",
    "[Plus d'informations..](https://inside-machinelearning.com/le-dropout-cest-quoi-deep-learning-explication-rapide/)\n",
    "</div>"
   ]
  },
  {
   "cell_type": "code",
   "execution_count": null,
   "metadata": {},
   "outputs": [],
   "source": []
  },
  {
   "cell_type": "code",
   "execution_count": null,
   "metadata": {},
   "outputs": [],
   "source": []
  },
  {
   "cell_type": "code",
   "execution_count": null,
   "metadata": {},
   "outputs": [],
   "source": []
  },
  {
   "cell_type": "code",
   "execution_count": null,
   "metadata": {},
   "outputs": [],
   "source": []
  },
  {
   "cell_type": "code",
   "execution_count": null,
   "metadata": {},
   "outputs": [],
   "source": []
  },
  {
   "cell_type": "code",
   "execution_count": null,
   "metadata": {},
   "outputs": [],
   "source": []
  },
  {
   "cell_type": "code",
   "execution_count": 12,
   "metadata": {},
   "outputs": [
    {
     "ename": "NameError",
     "evalue": "name 'dd' is not defined",
     "output_type": "error",
     "traceback": [
      "\u001b[1;31m---------------------------------------------------------------------------\u001b[0m",
      "\u001b[1;31mNameError\u001b[0m                                 Traceback (most recent call last)",
      "Cell \u001b[1;32mIn[12], line 1\u001b[0m\n\u001b[1;32m----> 1\u001b[0m \u001b[43mdd\u001b[49m\n",
      "\u001b[1;31mNameError\u001b[0m: name 'dd' is not defined"
     ]
    }
   ],
   "source": [
    "dd"
   ]
  },
  {
   "cell_type": "markdown",
   "metadata": {
    "id": "1sWKFGu1-HFB"
   },
   "source": [
    "#### MODEL CNN"
   ]
  },
  {
   "cell_type": "code",
   "execution_count": 14,
   "metadata": {
    "id": "-omv2SqfvQRB"
   },
   "outputs": [
    {
     "ename": "NameError",
     "evalue": "name 'x_train' is not defined",
     "output_type": "error",
     "traceback": [
      "\u001b[1;31m---------------------------------------------------------------------------\u001b[0m",
      "\u001b[1;31mNameError\u001b[0m                                 Traceback (most recent call last)",
      "Cell \u001b[1;32mIn[14], line 2\u001b[0m\n\u001b[0;32m      1\u001b[0m \u001b[38;5;66;03m# Reshape the input data to match the expected shape for a CNN\u001b[39;00m\n\u001b[1;32m----> 2\u001b[0m x_train_reshaped \u001b[38;5;241m=\u001b[39m \u001b[43mx_train\u001b[49m\u001b[38;5;241m.\u001b[39mreshape(\u001b[38;5;241m-\u001b[39m\u001b[38;5;241m1\u001b[39m, \u001b[38;5;241m28\u001b[39m, \u001b[38;5;241m28\u001b[39m, \u001b[38;5;241m1\u001b[39m)\n\u001b[0;32m      3\u001b[0m x_test_reshaped \u001b[38;5;241m=\u001b[39m x_test\u001b[38;5;241m.\u001b[39mreshape(\u001b[38;5;241m-\u001b[39m\u001b[38;5;241m1\u001b[39m, \u001b[38;5;241m28\u001b[39m, \u001b[38;5;241m28\u001b[39m, \u001b[38;5;241m1\u001b[39m)\n\u001b[0;32m      5\u001b[0m modele_CNN \u001b[38;5;241m=\u001b[39m models\u001b[38;5;241m.\u001b[39mSequential([\n\u001b[0;32m      6\u001b[0m     layers\u001b[38;5;241m.\u001b[39mConv2D(\u001b[38;5;241m32\u001b[39m, (\u001b[38;5;241m3\u001b[39m, \u001b[38;5;241m3\u001b[39m), activation\u001b[38;5;241m=\u001b[39m\u001b[38;5;124m'\u001b[39m\u001b[38;5;124mrelu\u001b[39m\u001b[38;5;124m'\u001b[39m, input_shape\u001b[38;5;241m=\u001b[39m(\u001b[38;5;241m28\u001b[39m, \u001b[38;5;241m28\u001b[39m, \u001b[38;5;241m1\u001b[39m)),\n\u001b[0;32m      7\u001b[0m     layers\u001b[38;5;241m.\u001b[39mMaxPooling2D((\u001b[38;5;241m2\u001b[39m, \u001b[38;5;241m2\u001b[39m)),\n\u001b[1;32m   (...)\u001b[0m\n\u001b[0;32m     10\u001b[0m     layers\u001b[38;5;241m.\u001b[39mDense(\u001b[38;5;241m10\u001b[39m, activation\u001b[38;5;241m=\u001b[39m\u001b[38;5;124m'\u001b[39m\u001b[38;5;124msoftmax\u001b[39m\u001b[38;5;124m'\u001b[39m)\n\u001b[0;32m     11\u001b[0m ])\n",
      "\u001b[1;31mNameError\u001b[0m: name 'x_train' is not defined"
     ]
    }
   ],
   "source": [
    "# Reshape the input data to match the expected shape for a CNN\n",
    "x_train_reshaped = x_train.reshape(-1, 28, 28, 1)\n",
    "x_test_reshaped = x_test.reshape(-1, 28, 28, 1)\n",
    "\n",
    "modele_CNN = models.Sequential([\n",
    "    layers.Conv2D(32, (3, 3), activation='relu', input_shape=(28, 28, 1)),\n",
    "    layers.MaxPooling2D((2, 2)),\n",
    "    layers.Flatten(),\n",
    "    layers.Dense(128, activation='relu'),\n",
    "    layers.Dense(10, activation='softmax')\n",
    "])"
   ]
  },
  {
   "cell_type": "markdown",
   "metadata": {},
   "source": [
    "#### Configuration de l'`Optimiseur` avec `Taux d'Apprentissage Exponentiel`"
   ]
  },
  {
   "cell_type": "code",
   "execution_count": null,
   "metadata": {
    "id": "eOGy3QvtvWSr"
   },
   "outputs": [],
   "source": [
    "# Définition d'une planification de taux d'apprentissage exponentielle\n",
    "planification_lr_exponentielle = keras.optimizers.schedules.ExponentialDecay(\n",
    "    initial_learning_rate=1.5,\n",
    "    decay_steps=10,\n",
    "    decay_rate=0.88\n",
    ")\n",
    "\n",
    "# Création d'un optimiseur SGD avec la planification de taux d'apprentissage exponentielle\n",
    "optimiseur = keras.optimizers.SGD(learning_rate=planification_lr_exponentielle)"
   ]
  },
  {
   "cell_type": "markdown",
   "metadata": {},
   "source": [
    "#### Configuration du Modèle DropNN"
   ]
  },
  {
   "cell_type": "code",
   "execution_count": null,
   "metadata": {
    "id": "i7bYn7WtvZ6y"
   },
   "outputs": [],
   "source": [
    "# Reshape the input data to match the expected shape for a CNN\n",
    "x_train_reshaped = x_train.reshape(-1, 28, 28, 1)\n",
    "x_test_reshaped = x_test.reshape(-1, 28, 28, 1)\n",
    "\n",
    "modele_CNN = models.Sequential([\n",
    "    layers.Conv2D(32, (3, 3), activation='relu', input_shape=(28, 28, 1)),\n",
    "    layers.MaxPooling2D((2, 2)),\n",
    "    layers.Flatten(),\n",
    "    layers.Dense(128, activation='relu'),\n",
    "    layers.Dense(10, activation='softmax')\n",
    "])"
   ]
  },
  {
   "cell_type": "markdown",
   "metadata": {},
   "source": [
    "#### Apprentissage du `Modèle DropNN` avec les 100 Données Étiquetées"
   ]
  },
  {
   "cell_type": "code",
   "execution_count": null,
   "metadata": {
    "colab": {
     "base_uri": "https://localhost:8080/"
    },
    "id": "ZlJkfSjWMNDa",
    "outputId": "2a637a45-6741-4f77-e19b-daa41e0c97ca",
    "scrolled": true
   },
   "outputs": [],
   "source": [
    "# Now, you can use the reshaped data for training\n",
    "historique_modele_CNN = modele_CNN.fit(\n",
    "    x_etiquetees, \n",
    "    y_etiquetees,\n",
    "    epochs=100, \n",
    "    batch_size=16,\n",
    "    validation_data=(x_validation, y_validation)\n",
    ")\n"
   ]
  },
  {
   "cell_type": "markdown",
   "metadata": {},
   "source": [
    "#### Visualisation de l'historique du modèle de réseau de neurones avec `Couches Dropout`"
   ]
  },
  {
   "cell_type": "code",
   "execution_count": null,
   "metadata": {},
   "outputs": [],
   "source": [
    "# Détermination du nombre d'époques\n",
    "nb_epochs = len(historique_modele_CNN.history['loss'])\n",
    "\n",
    "# Configuration du style Seaborn\n",
    "sns.set(style=\"whitegrid\")\n",
    "\n",
    "# Création de la figure avec une taille appropriée\n",
    "plt.figure(figsize=(16, 6))\n",
    "\n",
    "# Courbe de perte\n",
    "plt.subplot(1, 2, 1)\n",
    "sns.lineplot(x=range(1, nb_epochs + 1), y=historique_modele_CNN.history['loss'], label='Entraînement', color='blue')\n",
    "sns.lineplot(x=range(1, nb_epochs + 1), y=historique_modele_CNN.history['val_loss'], label='Validation', color='orange')\n",
    "plt.title('Évolution de la Perte')\n",
    "plt.xlabel('Époque')\n",
    "plt.ylabel('Perte')\n",
    "plt.legend()\n",
    "plt.grid(True)\n",
    "\n",
    "# Courbe de précision\n",
    "plt.subplot(1, 2, 2)\n",
    "sns.lineplot(x=range(1, nb_epochs + 1), y=historique_modele_CNN.history['accuracy'], label='Entraînement', color='green')\n",
    "sns.lineplot(x=range(1, nb_epochs + 1), y=historique_modele_CNN.history['val_accuracy'], label='Validation', color='red')\n",
    "plt.title('Évolution de la Précision')\n",
    "plt.xlabel('Époque')\n",
    "plt.ylabel('Précision')\n",
    "plt.legend()\n",
    "plt.grid(True)\n",
    "\n",
    "# Ajout du titre à la figure\n",
    "plt.suptitle(\"Visualisation de l'historique du modèle de réseau de neurones avec `Couches Dropout`\")\n",
    "plt.show()"
   ]
  },
  {
   "cell_type": "markdown",
   "metadata": {},
   "source": [
    "#### `Évaluation` et `Visualisation` des Métriques de Classification"
   ]
  },
  {
   "cell_type": "code",
   "execution_count": null,
   "metadata": {},
   "outputs": [],
   "source": [
    "# Prédiction sur l'ensemble de test\n",
    "y_pred = np.argmax(modele_CNN.predict(x_test), axis=1)\n",
    "\n",
    "# Calcul de la matrice de confusion\n",
    "matrice_confusion = confusion_matrix(y_test, y_pred)\n",
    "\n",
    "# Tracer la matrice de confusion avec un style amélioré\n",
    "plt.figure(figsize=(5, 4))\n",
    "sns.heatmap(matrice_confusion, annot=True, fmt=\"d\", cmap=\"viridis\", cbar=False, square=True,\n",
    "            xticklabels=np.arange(10), yticklabels=np.arange(10), linewidths=.5, linecolor='gray')\n",
    "plt.xlabel('Prédit', fontsize=12, fontweight='bold')\n",
    "plt.ylabel('Réel', fontsize=12, fontweight='bold')\n",
    "plt.title('Matrice de Confusion', fontsize=14, fontweight='bold')\n",
    "plt.xticks(fontsize=10)\n",
    "plt.yticks(fontsize=10)\n",
    "plt.show()\n",
    "\n",
    "# Rapport de classification\n",
    "rapport_classification = classification_report(y_test, y_pred, target_names=[str(i) for i in range(10)])\n",
    "print(\"Rapport de Classification:\\n\", rapport_classification)\n",
    "\n",
    "# Affichage des résultats d'évaluation\n",
    "precision = accuracy_score(y_test, y_pred)\n",
    "\n",
    "print(\"\\nRésultats de l'Évaluation sur l'Ensemble de Test :\")\n",
    "print(f\">> Précision : {precision}\")"
   ]
  },
  {
   "cell_type": "markdown",
   "metadata": {},
   "source": [
    "## <p style=\"color:red;\"><span style=\"color:black;\">Modèle 3️⃣ : `DropNN` avec `PseudoLabeling` (Semi-Supervisé)</span></p>\n",
    "\n",
    "> - Comme discuté dans l'article, nous allons maintenant définir et implémenter le pseudo labeling dans le modèle DropNN.\n",
    "\n",
    "<div class=\"alert alert-info\">\n",
    "<i class=\"fa fa-info-circle\"></i> &emsp; \n",
    "<b><code>Le Pseudo Labling dans l'apprentissage semi-supervisé</code></b> est une technique où, en plus des exemples d'entraînement étiquetés, des exemples non étiquetés sont également utilisés pour l'entraînement. Les prédictions du modèle sur les données non étiquetées sont ensuite traitées comme des \"pseudos-étiquettes\" et sont intégrées dans le processus d'entraînement. Cette approche vise à améliorer les performances du modèle en utilisant un ensemble de données plus large et diversifié.\n",
    "\n",
    "[Plus d'informations sur le Pseudo dans le cadre de l'apprentissage semi-supervisé](https://arxiv.org/abs/2211.10039)\n",
    "</div>"
   ]
  },
  {
   "cell_type": "markdown",
   "metadata": {},
   "source": [
    "#### Prédiction avec Pseudo-Étiquetage"
   ]
  },
  {
   "cell_type": "code",
   "execution_count": null,
   "metadata": {
    "colab": {
     "base_uri": "https://localhost:8080/"
    },
    "id": "leY09t7yM6ez",
    "outputId": "6cb580e6-43a9-4a32-c9c6-b3a7253b5006"
   },
   "outputs": [],
   "source": [
    "# Prédiction des étiquettes pseudo avec le modèle DropNN sur les données non étiquetées\n",
    "predictions_pseudo_etiquettes = modele_dropNN.predict(x_non_etiquetees)\n",
    "\n",
    "# Initialisation de la liste des étiquettes pseudo\n",
    "y_pseudo_etiquettes = []\n",
    "\n",
    "# Extraction des étiquettes pseudo en prenant l'indice du maximum de chaque prédiction\n",
    "for i in range(len(predictions_pseudo_etiquettes)):\n",
    "    y_pseudo_etiquettes.append(np.argmax(predictions_pseudo_etiquettes[i]))"
   ]
  },
  {
   "cell_type": "markdown",
   "metadata": {},
   "source": [
    "#### Configuration de l'Optimiseur et de la Fonction de Perte pour le Pseudo-Étiquetage"
   ]
  },
  {
   "cell_type": "code",
   "execution_count": null,
   "metadata": {
    "id": "BArUfSezORml"
   },
   "outputs": [],
   "source": [
    "# Configuration de l'optimiseur Adam pour le pseudo-étiquetage\n",
    "optimiseur_pseudo_etiquetage = keras.optimizers.Adam()\n",
    "\n",
    "# Configuration de la fonction de perte catégorielle sparse pour le pseudo-étiquetage\n",
    "fonction_perte_pseudo_etiquetage = keras.losses.SparseCategoricalCrossentropy(from_logits=True)"
   ]
  },
  {
   "cell_type": "markdown",
   "metadata": {},
   "source": [
    "#### Préparation des Datasets d'Apprentissage : `Images Labelisées` et `Pseudo-Étiquetées`"
   ]
  },
  {
   "cell_type": "code",
   "execution_count": null,
   "metadata": {
    "id": "BEVCikExOVrP"
   },
   "outputs": [],
   "source": [
    "# Tailles de lot (batch size) pour les données étiquetées et pseudo-étiquetées\n",
    "taille_lot_etiquete = 32\n",
    "taille_lot_PseudoEtiquette = 256\n",
    "\n",
    "# Création des datasets d'apprentissage avec les images étiquetées et pseudo-étiquetées\n",
    "ensemble_apprentissage_etiquete = tf.data.Dataset.from_tensor_slices((x_etiquetees, y_etiquetees))\n",
    "ensemble_apprentissage_etiquete = ensemble_apprentissage_etiquete.shuffle(buffer_size=1024).batch(taille_lot_etiquete)\n",
    "\n",
    "ensemble_apprentissage_PseudoEtiquette = tf.data.Dataset.from_tensor_slices((x_non_etiquetees, y_pseudo_etiquettes))\n",
    "ensemble_apprentissage_PseudoEtiquette = ensemble_apprentissage_PseudoEtiquette.shuffle(buffer_size=1024).batch(taille_lot_PseudoEtiquette)\n",
    "\n",
    "# Dataset de validation\n",
    "ensemble_validation = tf.data.Dataset.from_tensor_slices((x_validation, y_validation))\n",
    "ensemble_validation = ensemble_validation.batch(taille_lot_etiquete)  # Utilisation de la même taille de lot que pour les données étiquetées"
   ]
  },
  {
   "cell_type": "markdown",
   "metadata": {},
   "source": [
    "#### Entraînement avec `Pseudo-Étiquetage` et `Validation`\n",
    "\n",
    "> <b> Fonction d'entraînement avec pseudo-étiquetage </b>\n",
    "\n",
    "La fonction `etape_apprentissage` est conçue pour l'entraînement d'un modèle de réseau de neurones dans un scénario semi-supervisé avec pseudo-étiquetage. Voici un résumé de son fonctionnement :\n",
    "\n",
    "> <b> Stratégie de Pseudo-Étiquetage </b>\n",
    "- L'hyperparamètre `alpha` est ajusté linéairement entre les époques `T1` et `T2`.\n",
    "- La fonction de perte combine la perte sur les données étiquetées et la perte pondérée sur les données pseudo-étiquetées.\n",
    "\n",
    "> <b> Entraînement </b>\n",
    "1. Calcul des logits pour les données étiquetées et pseudo-étiquetées.\n",
    "2. Ajustement de l'hyperparamètre `alpha` en fonction de l'époque.\n",
    "3. Calcul de la perte totale en combinant les deux types de données.\n",
    "4. Calcul des gradients de la perte par rapport aux poids du modèle.\n",
    "5. Application des gradients à l'optimiseur pour mettre à jour les poids du modèle.tées sont limitées.\n"
   ]
  },
  {
   "cell_type": "code",
   "execution_count": null,
   "metadata": {
    "colab": {
     "base_uri": "https://localhost:8080/"
    },
    "id": "CWUjE4xyobJ3",
    "outputId": "2898fd19-f4f1-4713-d5da-49f9a8ac37ca"
   },
   "outputs": [],
   "source": [
    "# Fonction d'entraînement avec pseudo-étiquetage\n",
    "def etape_apprentissage(x_etiquete, y_etiquete, x_PseudoEtiquette, y_PseudoEtiquette, epoque):\n",
    "    \"\"\"\n",
    "    Fonction d'entraînement avec pseudo-étiquetage.\n",
    "\n",
    "    Parameters:\n",
    "        x_etiquete (tf.Tensor): Données d'entraînement étiquetées.\n",
    "        y_etiquete (tf.Tensor): Étiquettes correspondant aux données étiquetées.\n",
    "        x_PseudoEtiquette (tf.Tensor): Données d'entraînement pseudo-étiquetées.\n",
    "        y_PseudoEtiquette (tf.Tensor): Pseudo-étiquettes correspondant aux données pseudo-étiquetées.\n",
    "        epoque (int): Numéro de l'époque actuelle.\n",
    "\n",
    "    Returns:\n",
    "        tf.Tensor: Valeur de perte pour l'époque actuelle.\n",
    "    \"\"\"\n",
    "    alpha = 0.\n",
    "    T1 = 100\n",
    "    T2 = 600\n",
    "    af = 3.\n",
    "\n",
    "    with tf.GradientTape() as tape:\n",
    "        logits_etiquete = modele_dropNN(x_etiquete, training=True)\n",
    "        logits_PseudoEtiquette = modele_dropNN(x_PseudoEtiquette, training=True)\n",
    "\n",
    "        if epoque > T1:\n",
    "            alpha = ((epoque - T1) / (T2 - T1)) * af\n",
    "            if epoque > T2:\n",
    "                alpha = af\n",
    "        \n",
    "        # Calcul de la valeur de perte\n",
    "        valeur_perte = fonction_perte_pseudo_etiquetage(y_etiquete, logits_etiquete) + alpha * fonction_perte_pseudo_etiquetage(y_PseudoEtiquette, logits_PseudoEtiquette)\n",
    "        # Application des gradients à l'optimiseur\n",
    "        gradients = tape.gradient(valeur_perte, modele_dropNN.trainable_weights)\n",
    "\n",
    "    optimiseur_pseudo_etiquetage.apply_gradients(zip(gradients, modele_dropNN.trainable_weights))\n",
    "    return valeur_perte"
   ]
  },
  {
   "cell_type": "markdown",
   "metadata": {},
   "source": [
    "##### Boucle d'Apprentissage\n",
    "\n",
    "- **Époques :** Nous itérons sur un nombre prédéfini d'époques.\n",
    "- **Métriques d'Entraînement :** Nous stockons la perte moyenne et la précision pour chaque époque pendant l'entraînement.\n",
    "- **Métriques de Validation :** Nous calculons également ces métriques sur un ensemble de validation distinct.\n",
    "- **Affichage des Résultats :** Les résultats, y compris la perte, la précision, la perte de validation et la précision de validation, sont affichés à chaque époque."
   ]
  },
  {
   "cell_type": "code",
   "execution_count": null,
   "metadata": {},
   "outputs": [],
   "source": [
    "# Boucle d'apprentissage avec validation\n",
    "epochs = 100\n",
    "\n",
    "# Listes pour stocker la perte et la précision d'entraînement pour chaque époque\n",
    "pertes_entrainement = []\n",
    "precisions_entrainement = []\n",
    "\n",
    "# Listes pour la validation\n",
    "pertes_validation = []\n",
    "precisions_validation = []\n",
    "\n",
    "for epoque in range(epochs):\n",
    "    print(\"\\nDébut de l'époque %d\" % (epoque,))\n",
    "    temps_depart = time.time()\n",
    "    etape = 1\n",
    "\n",
    "    perte_epoque = 0.0\n",
    "    predictions_correctes = 0\n",
    "    total_echantillons = 0\n",
    "\n",
    "    # Boucle d'entraînement\n",
    "    for (lot_x_etiquete, lot_y_etiquete), (lot_x_pseudo_etiquete, lot_y_pseudo_etiquete) in zip(ensemble_apprentissage_etiquete, ensemble_apprentissage_PseudoEtiquette):\n",
    "        # Appel de la fonction d'entraînement\n",
    "        valeur_perte = etape_apprentissage(lot_x_etiquete, lot_y_etiquete, lot_x_pseudo_etiquete, lot_y_pseudo_etiquete, epoque)\n",
    "\n",
    "        # Mise à jour des métriques\n",
    "        perte_epoque += valeur_perte.numpy()\n",
    "\n",
    "        logits_etiquete = modele_dropNN(lot_x_etiquete, training=False)\n",
    "        predictions_etiquete = np.argmax(logits_etiquete, axis=1)\n",
    "        predictions_correctes += np.sum(predictions_etiquete == lot_y_etiquete.numpy())\n",
    "        total_echantillons += len(lot_y_etiquete)\n",
    "\n",
    "    # Calcul des métriques d'entraînement\n",
    "    perte_moyenne = perte_epoque / etape\n",
    "    precision = predictions_correctes / total_echantillons\n",
    "\n",
    "    # Stockage des métriques d'entraînement\n",
    "    pertes_entrainement.append(perte_moyenne)\n",
    "    precisions_entrainement.append(precision)\n",
    "\n",
    "    # Boucle de validation\n",
    "    perte_validation = 0.0\n",
    "    predictions_correctes_validation = 0\n",
    "    total_echantillons_validation = 0\n",
    "\n",
    "    for lot_x_validation, lot_y_validation in ensemble_validation:\n",
    "        logits_validation = modele_dropNN(lot_x_validation, training=False)\n",
    "        perte_validation += fonction_perte_pseudo_etiquetage(lot_y_validation, logits_validation).numpy()\n",
    "\n",
    "        predictions_validation = np.argmax(logits_validation, axis=1)\n",
    "        predictions_correctes_validation += np.sum(predictions_validation == lot_y_validation.numpy())\n",
    "        total_echantillons_validation += len(lot_y_validation)\n",
    "\n",
    "    # Calcul des métriques de validation\n",
    "    perte_moyenne_validation = perte_validation / total_echantillons_validation\n",
    "    precision_validation = predictions_correctes_validation / total_echantillons_validation\n",
    "\n",
    "    # Stockage des métriques de validation\n",
    "    pertes_validation.append(perte_moyenne_validation)\n",
    "    precisions_validation.append(precision_validation)\n",
    "\n",
    "    # Affichage des résultats de l'époque\n",
    "    print(\"Époque %d : Temps écoulé : %.2fs, Perte : %.4f, Précision : %.4f, Perte Validation : %.4f, Précision Validation : %.4f\" % (\n",
    "        epoque, time.time() - temps_depart, perte_moyenne, precision, perte_moyenne_validation, precision_validation))"
   ]
  },
  {
   "cell_type": "markdown",
   "metadata": {},
   "source": [
    "#### Visualisation de l'historique du modèle `DropNN` avec `PseudoLabeling`"
   ]
  },
  {
   "cell_type": "code",
   "execution_count": null,
   "metadata": {
    "colab": {
     "base_uri": "https://localhost:8080/",
     "height": 807
    },
    "id": "5ay7OkyC8Q3l",
    "outputId": "12b601f6-90d5-4e3b-dd08-37f92666c482"
   },
   "outputs": [],
   "source": [
    "# Création de la figure\n",
    "plt.figure(figsize=(16, 6))\n",
    "\n",
    "# Courbe de perte\n",
    "plt.subplot(1, 2, 1)\n",
    "sns.lineplot(x=range(1, epochs + 1), y=pertes_entrainement, label='Entraînement', color='blue')\n",
    "sns.lineplot(x=range(1, epochs + 1), y=pertes_validation, label='Validation', color='orange')\n",
    "plt.title('Évolution de la Perte')\n",
    "plt.xlabel('Époque')\n",
    "plt.ylabel('Perte')\n",
    "plt.legend()\n",
    "plt.grid(True)\n",
    "\n",
    "# Courbe de précision\n",
    "plt.subplot(1, 2, 2)\n",
    "sns.lineplot(x=range(1, epochs + 1), y=precisions_entrainement, label='Entraînement', color='green')\n",
    "sns.lineplot(x=range(1, epochs + 1), y=precisions_validation, label='Validation', color='red')\n",
    "plt.title('Évolution de la Précision')\n",
    "plt.xlabel('Époque')\n",
    "plt.ylabel('Précision')\n",
    "plt.legend()\n",
    "plt.grid(True)\n",
    "\n",
    "# Ajout du titre à la figure\n",
    "plt.suptitle(\"Visualisation de l'historique du modèle `DropNN` avec `PseudoLabeling`\")\n",
    "\n",
    "# Affichage de la figure\n",
    "plt.show()"
   ]
  },
  {
   "cell_type": "markdown",
   "metadata": {},
   "source": [
    "#### `Évaluation` et `Visualisation` des Métriques de Classification"
   ]
  },
  {
   "cell_type": "code",
   "execution_count": null,
   "metadata": {},
   "outputs": [],
   "source": [
    "# Prédiction sur l'ensemble de test\n",
    "y_pred = np.argmax(modele_dropNN.predict(x_test), axis=1)\n",
    "\n",
    "# Calcul de la matrice de confusion\n",
    "matrice_confusion = confusion_matrix(y_test, y_pred)\n",
    "\n",
    "# Tracer la matrice de confusion avec un style amélioré\n",
    "plt.figure(figsize=(5, 4))\n",
    "sns.heatmap(matrice_confusion, annot=True, fmt=\"d\", cmap=\"viridis\", cbar=False, square=True,\n",
    "            xticklabels=np.arange(10), yticklabels=np.arange(10), linewidths=.5, linecolor='gray')\n",
    "plt.xlabel('Prédit', fontsize=12, fontweight='bold')\n",
    "plt.ylabel('Réel', fontsize=12, fontweight='bold')\n",
    "plt.title('Matrice de Confusion', fontsize=14, fontweight='bold')\n",
    "plt.xticks(fontsize=10)\n",
    "plt.yticks(fontsize=10)\n",
    "plt.show()\n",
    "\n",
    "# Rapport de classification\n",
    "rapport_classification = classification_report(y_test, y_pred, target_names=[str(i) for i in range(10)])\n",
    "print(\"Rapport de Classification:\\n\", rapport_classification)\n",
    "\n",
    "# Affichage des résultats d'évaluation\n",
    "precision = accuracy_score(y_test, y_pred)\n",
    "\n",
    "print(\"\\nRésultats de l'Évaluation sur l'Ensemble de Test :\")\n",
    "print(f\">> Précision : {precision}\")"
   ]
  },
  {
   "cell_type": "markdown",
   "metadata": {},
   "source": [
    "#### Visualisation des prédictions du modèle sur quelques images de test"
   ]
  },
  {
   "cell_type": "code",
   "execution_count": null,
   "metadata": {},
   "outputs": [],
   "source": [
    "# Nombre d'échantillons à visualiser\n",
    "num_samples = 10 \n",
    "\n",
    "# Sélection aléatoire des indices des échantillons de test\n",
    "test_indices = np.random.choice(range(len(x_test)), size=num_samples, replace=False)\n",
    "\n",
    "# Création d'une seule figure pour afficher toutes les images\n",
    "plt.figure(figsize=(15, 3))\n",
    "\n",
    "# Itération sur les échantillons de test sélectionnés\n",
    "for i, index in enumerate(test_indices, 1):\n",
    "    image_test = x_test[index].reshape(1, 28 * 28)  # Aplatir l'image pour la prédiction\n",
    "    prediction = modele_dropNN.predict(image_test)\n",
    "\n",
    "    # Ajout d'un sous-tracé à la figure\n",
    "    plt.subplot(1, num_samples, i)\n",
    "    plt.imshow(image_test.reshape(28, 28), cmap='gray')  # Remodeler pour l'affichage\n",
    "    plt.title(f\"Réelle : {y_test[index]}\\nPrédite : {np.argmax(prediction)}\")\n",
    "    plt.axis('off')  # Désactiver les axes pour un affichage plus propre\n",
    "\n",
    "# Afficher la figure contenant toutes les images\n",
    "plt.show()"
   ]
  },
  {
   "cell_type": "code",
   "execution_count": null,
   "metadata": {},
   "outputs": [],
   "source": []
  }
 ],
 "metadata": {
  "accelerator": "GPU",
  "colab": {
   "provenance": []
  },
  "kernelspec": {
   "display_name": "Python 3 (ipykernel)",
   "language": "python",
   "name": "python3"
  },
  "language_info": {
   "codemirror_mode": {
    "name": "ipython",
    "version": 3
   },
   "file_extension": ".py",
   "mimetype": "text/x-python",
   "name": "python",
   "nbconvert_exporter": "python",
   "pygments_lexer": "ipython3",
   "version": "3.9.0"
  }
 },
 "nbformat": 4,
 "nbformat_minor": 4
}
