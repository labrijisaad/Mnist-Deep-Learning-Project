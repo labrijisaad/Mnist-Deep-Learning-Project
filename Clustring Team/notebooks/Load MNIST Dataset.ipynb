{
 "cells": [
  {
   "cell_type": "markdown",
   "id": "5d3fe9eb-cd81-40a9-9924-2b1204ab7c34",
   "metadata": {},
   "source": [
    "# Load MNIST Dataset from Hugging Face"
   ]
  },
  {
   "cell_type": "markdown",
   "id": "84f405ee-ad6b-49f2-af17-bb659ce31259",
   "metadata": {},
   "source": [
    "### Import the needed `libraries` "
   ]
  },
  {
   "cell_type": "code",
   "execution_count": 1,
   "id": "e91091cf-32b6-4eca-9ad3-6031893e37bd",
   "metadata": {},
   "outputs": [],
   "source": [
    "# Data manipulation and analysis libraries:\n",
    "import numpy as np\n",
    "import pandas as pd\n",
    "\n",
    "# Import Hugging Face datasets\n",
    "from datasets import load_dataset\n",
    "\n",
    "# Other libraries:\n",
    "import warnings\n",
    "import os\n",
    "\n",
    "# Configure pandas to display all columns:\n",
    "pd.set_option('display.max_columns', None)\n",
    "\n",
    "# Render figures directly in the notebook:\n",
    "%matplotlib inline\n",
    "\n",
    "# Render higher resolution images:\n",
    "%config InlineBackend.figure_format = 'retina'\n",
    "\n",
    "# Ignore warning messages:\n",
    "warnings.filterwarnings('ignore')"
   ]
  },
  {
   "cell_type": "markdown",
   "id": "feb4e0e6-91a9-4eda-b4b2-70f5ed1f1131",
   "metadata": {},
   "source": [
    "### Load the MNIST Dataset"
   ]
  },
  {
   "cell_type": "code",
   "execution_count": 2,
   "id": "9dbf2378-a598-4dbd-a6cb-34c48c06b6f1",
   "metadata": {},
   "outputs": [],
   "source": [
    "# Load the MNIST dataset from the Hugging Face Hub\n",
    "mnist_dataset = load_dataset(\"mnist\")\n",
    "\n",
    "# Access the training and testing splits\n",
    "train_data, test_data = mnist_dataset[\"train\"], mnist_dataset[\"test\"]"
   ]
  },
  {
   "cell_type": "code",
   "execution_count": 3,
   "id": "f795c247-028d-4849-965f-3076c9171dba",
   "metadata": {},
   "outputs": [
    {
     "data": {
      "text/plain": [
       "Dataset({\n",
       "    features: ['image', 'label'],\n",
       "    num_rows: 60000\n",
       "})"
      ]
     },
     "execution_count": 3,
     "metadata": {},
     "output_type": "execute_result"
    }
   ],
   "source": [
    "train_data"
   ]
  },
  {
   "cell_type": "code",
   "execution_count": 4,
   "id": "cdec1144-04f4-4f77-97ad-1b6b8acbab4d",
   "metadata": {},
   "outputs": [
    {
     "data": {
      "text/plain": [
       "Dataset({\n",
       "    features: ['image', 'label'],\n",
       "    num_rows: 10000\n",
       "})"
      ]
     },
     "execution_count": 4,
     "metadata": {},
     "output_type": "execute_result"
    }
   ],
   "source": [
    "test_data"
   ]
  }
 ],
 "metadata": {
  "kernelspec": {
   "display_name": "Python 3 (ipykernel)",
   "language": "python",
   "name": "python3"
  },
  "language_info": {
   "codemirror_mode": {
    "name": "ipython",
    "version": 3
   },
   "file_extension": ".py",
   "mimetype": "text/x-python",
   "name": "python",
   "nbconvert_exporter": "python",
   "pygments_lexer": "ipython3",
   "version": "3.9.0"
  }
 },
 "nbformat": 4,
 "nbformat_minor": 5
}
